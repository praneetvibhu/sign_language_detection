{
 "cells": [
  {
   "cell_type": "markdown",
   "metadata": {},
   "source": [
    "# Histopathologic Cancer Detection"
   ]
  },
  {
   "cell_type": "code",
   "execution_count": 1,
   "metadata": {},
   "outputs": [],
   "source": [
    "###################################################\n",
    "###################################################\n",
    "# Abhyuday Puri (ap3758)                          #\n",
    "# Columbia University                             #\n",
    "# ECBM E6040                                      #\n",
    "###################################################\n",
    "###################################################"
   ]
  },
  {
   "cell_type": "code",
   "execution_count": 3,
   "metadata": {},
   "outputs": [
    {
     "name": "stderr",
     "output_type": "stream",
     "text": [
      "C:\\Users\\prane\\Anaconda3\\envs\\speech\\lib\\site-packages\\sklearn\\utils\\fixes.py:313: FutureWarning: numpy not_equal will not check object identity in the future. The comparison did not return the same result as suggested by the identity (`is`)) and will change.\n",
      "  _nan_object_mask = _nan_object_array != _nan_object_array\n"
     ]
    }
   ],
   "source": [
    "import torch\n",
    "import torch.nn as nn\n",
    "import torch.nn.functional as F\n",
    "import torch.optim as optim\n",
    "import torchvision\n",
    "import numpy as np\n",
    "import matplotlib\n",
    "%matplotlib inline\n",
    "import matplotlib.pyplot as plt\n",
    "from random import shuffle\n",
    "from sklearn.model_selection import train_test_split\n",
    "import csv"
   ]
  },
  {
   "cell_type": "markdown",
   "metadata": {},
   "source": [
    "### Read the labelled data and split it into training and validation"
   ]
  },
  {
   "cell_type": "code",
   "execution_count": 2,
   "metadata": {},
   "outputs": [
    {
     "name": "stdout",
     "output_type": "stream",
     "text": [
      "Number of training examples: 176020\n",
      "Number of validation examples: 44005\n"
     ]
    }
   ],
   "source": [
    "# Reading the image ids and labels\n",
    "label = pd.read_csv('../data/train_labels.csv')\n",
    "\n",
    "# Splitting the data into training and validation with a 80/20 split\n",
    "train, val = train_test_split(label, test_size=0.2, shuffle=False)\n",
    "\n",
    "# Re-indexing the validation dataframe\n",
    "val = val.reset_index(drop = True)\n",
    "\n",
    "print('Number of training examples:', train.shape[0])\n",
    "print('Number of validation examples:', val.shape[0])"
   ]
  },
  {
   "cell_type": "markdown",
   "metadata": {},
   "source": [
    "### Creating the CNN architecture\n",
    "This network consists of 3 convolutional layers, 2 fully connected layers, and Batch Normalization after every intermediate layer. I use the ReLU activation function at the output of every intermediate layer, and a Sigmoid activation at the final output."
   ]
  },
  {
   "cell_type": "code",
   "execution_count": 3,
   "metadata": {},
   "outputs": [],
   "source": [
    "# Defining the network architecture\n",
    "class Net(nn.Module):\n",
    "    def __init__(self):\n",
    "        super(Net, self).__init__()\n",
    "        self.conv1 = nn.Conv2d(3, 64, 3)\n",
    "        self.conv1_bn = nn.BatchNorm2d(64)\n",
    "        self.pool = nn.MaxPool2d(2, 2)\n",
    "        self.conv2 = nn.Conv2d(64, 256, 3)\n",
    "        self.conv2_bn = nn.BatchNorm2d(256)\n",
    "        self.conv3 = nn.Conv2d(256, 128, 3)\n",
    "        self.conv3_bn = nn.BatchNorm2d(128)\n",
    "        self.fc1 = nn.Linear(128 * 10 * 10, 64)\n",
    "        self.fc1_bn = nn.BatchNorm1d(64)\n",
    "        self.fc2 = nn.Linear(64, 1)\n",
    "        self.out_act = nn.Sigmoid()\n",
    "        \n",
    "    def forward(self, x):\n",
    "        x = self.pool(F.relu(self.conv1_bn(self.conv1(x))))\n",
    "        x = self.pool(F.relu(self.conv2_bn(self.conv2(x))))\n",
    "        x = self.pool(F.relu(self.conv3_bn(self.conv3(x))))\n",
    "        x = x.view(-1, 128 * 10 * 10)\n",
    "        x = F.relu(self.fc1_bn(self.fc1(x)))\n",
    "        x = self.out_act(self.fc2(x))\n",
    "        return x"
   ]
  },
  {
   "cell_type": "markdown",
   "metadata": {},
   "source": [
    "### Creating the network and moving it onto the GPU (if available)"
   ]
  },
  {
   "cell_type": "code",
   "execution_count": 4,
   "metadata": {},
   "outputs": [
    {
     "name": "stdout",
     "output_type": "stream",
     "text": [
      "Device being used = cuda:0\n"
     ]
    },
    {
     "data": {
      "text/plain": [
       "Net(\n",
       "  (conv1): Conv2d(3, 64, kernel_size=(3, 3), stride=(1, 1))\n",
       "  (conv1_bn): BatchNorm2d(64, eps=1e-05, momentum=0.1, affine=True, track_running_stats=True)\n",
       "  (pool): MaxPool2d(kernel_size=2, stride=2, padding=0, dilation=1, ceil_mode=False)\n",
       "  (conv2): Conv2d(64, 256, kernel_size=(3, 3), stride=(1, 1))\n",
       "  (conv2_bn): BatchNorm2d(256, eps=1e-05, momentum=0.1, affine=True, track_running_stats=True)\n",
       "  (conv3): Conv2d(256, 128, kernel_size=(3, 3), stride=(1, 1))\n",
       "  (conv3_bn): BatchNorm2d(128, eps=1e-05, momentum=0.1, affine=True, track_running_stats=True)\n",
       "  (fc1): Linear(in_features=12800, out_features=64, bias=True)\n",
       "  (fc1_bn): BatchNorm1d(64, eps=1e-05, momentum=0.1, affine=True, track_running_stats=True)\n",
       "  (fc2): Linear(in_features=64, out_features=1, bias=True)\n",
       "  (out_act): Sigmoid()\n",
       ")"
      ]
     },
     "execution_count": 4,
     "metadata": {},
     "output_type": "execute_result"
    }
   ],
   "source": [
    "# Creating the network\n",
    "net = Net()\n",
    "\n",
    "# Checking if there is a GPU available\n",
    "device = torch.device(\"cuda:0\" if torch.cuda.is_available() else \"cpu\")\n",
    "print('Device being used =', device)\n",
    "\n",
    "# Transferring the network onto the GPU\n",
    "net.to(device)\n",
    "\n",
    "# Ensuring that the model is in the training mode\n",
    "net.train()"
   ]
  },
  {
   "cell_type": "markdown",
   "metadata": {},
   "source": [
    "### Loss Function and Optimizer"
   ]
  },
  {
   "cell_type": "code",
   "execution_count": 5,
   "metadata": {},
   "outputs": [],
   "source": [
    "# Choosing the loss function criteria\n",
    "criterion = nn.BCELoss()    # This is the Binary Cross Entropy Loss Function\n",
    "\n",
    "# Choosing the optimizer and its hyper-parameters\n",
    "optimizer = optim.Adam(net.parameters(), lr=0.0001, betas=(0.9, 0.999), eps=1e-08)    # Adaptive Momentum Optimizer"
   ]
  },
  {
   "cell_type": "markdown",
   "metadata": {},
   "source": [
    "### Setting the hyper-parameters for the training"
   ]
  },
  {
   "cell_type": "code",
   "execution_count": 7,
   "metadata": {},
   "outputs": [],
   "source": [
    "# Get the number of train and val examples\n",
    "num_train = train.shape[0]\n",
    "num_val = val.shape[0]\n",
    "\n",
    "# Hyper-Parameters\n",
    "num_epochs = 5\n",
    "batch_size = 200\n",
    "num_iters = num_train // batch_size"
   ]
  },
  {
   "cell_type": "markdown",
   "metadata": {},
   "source": [
    "## Training"
   ]
  },
  {
   "cell_type": "code",
   "execution_count": 8,
   "metadata": {},
   "outputs": [
    {
     "name": "stdout",
     "output_type": "stream",
     "text": [
      "epoch: 0, mini_batch: 200 loss: 0.48549992755055427\n",
      "epoch: 0, mini_batch: 400 loss: 0.4191173976659775\n",
      "epoch: 0, mini_batch: 600 loss: 0.3790909260511398\n",
      "epoch: 0, mini_batch: 800 loss: 0.3589572809636593\n",
      "epoch: 1, mini_batch: 200 loss: 0.33026263549923895\n",
      "epoch: 1, mini_batch: 400 loss: 0.3192927210777998\n",
      "epoch: 1, mini_batch: 600 loss: 0.3040379475057125\n",
      "epoch: 1, mini_batch: 800 loss: 0.28980055086314677\n",
      "epoch: 2, mini_batch: 200 loss: 0.2721355623751879\n",
      "epoch: 2, mini_batch: 400 loss: 0.26051641188561914\n",
      "epoch: 2, mini_batch: 600 loss: 0.25267469048500063\n",
      "epoch: 2, mini_batch: 800 loss: 0.24934985160827636\n",
      "epoch: 3, mini_batch: 200 loss: 0.22685006506741046\n",
      "epoch: 3, mini_batch: 400 loss: 0.2178252487629652\n",
      "epoch: 3, mini_batch: 600 loss: 0.2173678969591856\n",
      "epoch: 3, mini_batch: 800 loss: 0.21474242232739926\n",
      "epoch: 4, mini_batch: 200 loss: 0.18960166309028864\n",
      "epoch: 4, mini_batch: 400 loss: 0.18701070252805949\n",
      "epoch: 4, mini_batch: 600 loss: 0.18704144041985274\n",
      "epoch: 4, mini_batch: 800 loss: 0.18400734290480614\n",
      "Finished Training\n",
      "Model Saved\n"
     ]
    },
    {
     "name": "stderr",
     "output_type": "stream",
     "text": [
      "/home/ecbm6040/dlenv/lib/python3.6/site-packages/torch/serialization.py:251: UserWarning: Couldn't retrieve source code for container of type Net. It won't be checked for correctness upon loading.\n",
      "  \"type \" + obj.__name__ + \". It won't be checked \"\n"
     ]
    },
    {
     "data": {
      "text/plain": [
       "[<matplotlib.lines.Line2D at 0x7ff16f9836a0>]"
      ]
     },
     "execution_count": 8,
     "metadata": {},
     "output_type": "execute_result"
    },
    {
     "data": {
      "image/png": "[encoded data removed]",
      "text/plain": [
       "<Figure size 432x288 with 1 Axes>"
      ]
     },
     "metadata": {
      "needs_background": "light"
     },
     "output_type": "display_data"
    }
   ],
   "source": [
    "# Stores the loss through out the entire training\n",
    "training_loss = []\n",
    "\n",
    "# Variables to store the mini-batch data\n",
    "batch_image = torch.zeros(batch_size, 3, 96, 96)\n",
    "batch_y = torch.zeros(batch_size, 1)\n",
    "\n",
    "# loop over the dataset multiple times\n",
    "for epoch in range(num_epochs):  \n",
    "    \n",
    "    # Stores the loss for an entire mini-batch\n",
    "    running_loss = 0.0\n",
    "    \n",
    "    # Shuffling the training dataset for each epoch\n",
    "    train = train.sample(frac=1).reset_index(drop=True)\n",
    "    \n",
    "    # Loop over the entire training dataset\n",
    "    for i in range(num_iters):\n",
    "        \n",
    "        # Zero the parameter gradients\n",
    "        optimizer.zero_grad()\n",
    "        \n",
    "        # Create the mini batch\n",
    "        for j in range(batch_size):\n",
    "            # get the inputs\n",
    "            name = train['id'][i * batch_size + j] \n",
    "            y = train['label'][i * batch_size + j]\n",
    "            # Read the image\n",
    "            image = plt.imread('../data/train/' + name + '.tif')\n",
    "            # Convert the image into a tensor\n",
    "            image = torch.tensor(image).float()\n",
    "            # Arrange the image in the desired order\n",
    "            batch_image[j, :] = image.permute(2, 0, 1)\n",
    "            # Converting the label to a tensor\n",
    "            batch_y[j] = torch.tensor(y).float()\n",
    "         \n",
    "        # Moving the mini-batch onto the GPU\n",
    "        batch_image, batch_y = batch_image.to(device), batch_y.to(device)\n",
    "        \n",
    "        # Forward Propogation\n",
    "        outputs = net(batch_image)\n",
    "        \n",
    "        # Computng the loss\n",
    "        loss = criterion(outputs, batch_y)\n",
    "           \n",
    "        # Back Propogation    \n",
    "        loss.backward()\n",
    "        \n",
    "        # Updating the network parameters\n",
    "        optimizer.step()\n",
    "        \n",
    "        # Print Loss\n",
    "        running_loss += loss.item()\n",
    "        if i % 200 == 0 and i != 0:    # print every 200 mini-batches\n",
    "            print('epoch: {}, mini_batch: {} loss: {}'.format(epoch, i, running_loss / 200))\n",
    "            training_loss.append(running_loss / 200)\n",
    "            running_loss = 0.0\n",
    "            \n",
    "print('Finished Training')\n",
    "\n",
    "# Saving the model\n",
    "torch.save(net, 'Network_3_1.pth')\n",
    "print('Model Saved')\n",
    "\n",
    "# Plotting the loss curve\n",
    "plt.plot(training_loss)"
   ]
  },
  {
   "cell_type": "markdown",
   "metadata": {},
   "source": [
    "As can be seen, the training loss decreases with the number of iterations. "
   ]
  },
  {
   "cell_type": "markdown",
   "metadata": {},
   "source": [
    "## Validation"
   ]
  },
  {
   "cell_type": "code",
   "execution_count": 9,
   "metadata": {},
   "outputs": [
    {
     "name": "stdout",
     "output_type": "stream",
     "text": [
      "Validation Accuracy: 90.18293375752755\n"
     ]
    }
   ],
   "source": [
    "# Load the saved network\n",
    "net = torch.load('Network_3_1.pth')\n",
    "\n",
    "# Transferring the network onto the GPU\n",
    "net.to(device)\n",
    "\n",
    "# Ensuring the model runs in the test mode\n",
    "# This freezes the values of the model parameters and does not update them\n",
    "net.eval()\n",
    "\n",
    "# Creating tensors to store the image and label\n",
    "val_image = torch.zeros(1, 3, 96, 96)\n",
    "val_y = torch.tensor(0).float()\n",
    "\n",
    "# Stores the number of correct prediction our model makes\n",
    "correct = 0\n",
    "\n",
    "for j in range(num_val):\n",
    "    # get the input data\n",
    "    name = val['id'][j] \n",
    "    y = val['label'][j]\n",
    "    \n",
    "    # Read the image\n",
    "    image = plt.imread('../data/train/' + name + '.tif')\n",
    "    # Converting the image into a tensor\n",
    "    image = torch.tensor(image).float()\n",
    "    # Re-arranging the axis of the image into the desired order\n",
    "    val_image[0, :] = image.permute(2, 0, 1)\n",
    "    # Converting the label into a tensor\n",
    "    val_y = torch.tensor(y).float()\n",
    "    \n",
    "    # Transferring the data onto the GPU\n",
    "    val_image, val_y = val_image.to(device), val_y.to(device)\n",
    "    \n",
    "    # Running inference on the mini-batch\n",
    "    outputs = net(val_image)\n",
    "\n",
    "    # Checking the prediction with the ground truth label\n",
    "    if outputs >= 0.5 and val_y == 1:\n",
    "        correct += 1\n",
    "    elif outputs < 0.5 and val_y ==0:\n",
    "        correct += 1\n",
    "        \n",
    "print('Validation Accuracy:', 100 * correct / num_val)"
   ]
  },
  {
   "cell_type": "markdown",
   "metadata": {},
   "source": [
    "## Testing"
   ]
  },
  {
   "cell_type": "code",
   "execution_count": 10,
   "metadata": {},
   "outputs": [
    {
     "name": "stdout",
     "output_type": "stream",
     "text": [
      "Number of testing examples: 57458\n"
     ]
    }
   ],
   "source": [
    "# Reading the test image names\n",
    "test = pd.read_csv('../data/sample_submission.csv')\n",
    "print('Number of testing examples:', test.shape[0])\n",
    "\n",
    "# Storing the number of training examples\n",
    "num_test = test.shape[0]"
   ]
  },
  {
   "cell_type": "code",
   "execution_count": 11,
   "metadata": {},
   "outputs": [],
   "source": [
    "test_image = torch.zeros(1, 3, 96, 96)\n",
    "\n",
    "# Creating the CSV file to store the result\n",
    "with open('attempt_4.csv', 'wt') as csvfile:\n",
    "    filewriter = csv.writer(csvfile, delimiter=',')\n",
    "    \n",
    "    # Writing the header row for the submission file\n",
    "    filewriter.writerow(['id', 'label'])\n",
    "    for j in range(num_test):\n",
    "        \n",
    "        # get the input image name\n",
    "        name = test['id'][j] \n",
    "        \n",
    "        # Read the image\n",
    "        image = plt.imread('../data/test/' + name + '.tif')\n",
    "        image = torch.tensor(image).float()\n",
    "        test_image[0, :] = image.permute(2, 0, 1)\n",
    "    \n",
    "        # Transferring data onto the GPU\n",
    "        test_image = test_image.to(device)\n",
    "        \n",
    "        # Predicting the label for the input\n",
    "        outputs = net(test_image)\n",
    "        \n",
    "        # Writing the label to the submission file\n",
    "        if outputs >= 0.5:\n",
    "            filewriter.writerow([name, 1])\n",
    "        else:\n",
    "            filewriter.writerow([name, 0])"
   ]
  },
  {
   "cell_type": "markdown",
   "metadata": {},
   "source": [
    "This is the result of this network on the Kaggle Test dataset:"
   ]
  },
  {
   "cell_type": "markdown",
   "metadata": {},
   "source": [
    "<img src=\"attempt_4.png\" style=\"height:200px\">"
   ]
  },
  {
   "cell_type": "markdown",
   "metadata": {},
   "source": [
    "### Final Conclusion"
   ]
  },
  {
   "cell_type": "markdown",
   "metadata": {},
   "source": [
    "I tried 3 networks for this task, and so far, this has given the best result. Below is a table that summarizes the results:"
   ]
  },
  {
   "cell_type": "markdown",
   "metadata": {},
   "source": [
    "| Network     | Accuracy  |\n",
    "|-------------|-----------|\n",
    "|  Network 1  |   80.2    |\n",
    "|  Network 1 + BN  |   82.7    |\n",
    "|  Network 3  |   85.7    |"
   ]
  },
  {
   "cell_type": "markdown",
   "metadata": {},
   "source": [
    "## Appendix"
   ]
  },
  {
   "cell_type": "markdown",
   "metadata": {},
   "source": [
    "This section discusses the arhcitecture of the 3 networks (All filters are of size $ 3 \\times 3$):"
   ]
  },
  {
   "cell_type": "markdown",
   "metadata": {},
   "source": [
    "**<u>Network 1:</u>**"
   ]
  },
  {
   "cell_type": "markdown",
   "metadata": {},
   "source": [
    "|    Layer       |    Number of Filters/Neurons |\n",
    "|----------------|------------------------------|\n",
    "|    conv1       |                64            |\n",
    "|    maxpool     |                (2,2)         |\n",
    "|    conv2       |                128           |\n",
    "|    maxpool     |                (2,2)         |\n",
    "|    conv3       |                128           |\n",
    "|    maxpool     |                (2,2)         |\n",
    "|    fc1         |                (12800, 64)   |\n",
    "|    fc2         |                (64, 2)       |\n",
    "|    sigmoid     |                (1, 2)        |"
   ]
  },
  {
   "cell_type": "markdown",
   "metadata": {},
   "source": [
    "**<u>Network 2:</u>**"
   ]
  },
  {
   "cell_type": "markdown",
   "metadata": {},
   "source": [
    "|    Layer       |    Number of Filters/Neurons |\n",
    "|----------------|------------------------------|\n",
    "|    conv1 + BN  |                64            |\n",
    "|    maxpool     |                (2,2)         |\n",
    "|    conv2 + BN  |                128           |\n",
    "|    maxpool     |                (2,2)         |\n",
    "|    conv3 + BN  |                128           |\n",
    "|    maxpool     |                (2,2)         |\n",
    "|    fc1 + BN    |                (12800, 64)   |\n",
    "|    fc2         |                (64, 2)       |\n",
    "|    sigmoid     |                (1, 2)        |"
   ]
  },
  {
   "cell_type": "markdown",
   "metadata": {},
   "source": [
    "**<u>Network 3:</u>**"
   ]
  },
  {
   "cell_type": "markdown",
   "metadata": {},
   "source": [
    "|    Layer       |    Number of Filters/Neurons |\n",
    "|----------------|------------------------------|\n",
    "|    conv1 + BN  |                64            |\n",
    "|    maxpool     |                (2,2)         |\n",
    "|    conv2 + BN  |                256           |\n",
    "|    maxpool     |                (2,2)         |\n",
    "|    conv3 + BN  |                128           |\n",
    "|    maxpool     |                (2,2)         |\n",
    "|    fc1 + BN    |                (12800, 64)   |\n",
    "|    fc2         |                (64, 2)       |\n",
    "|    sigmoid     |                (1, 2)        |\n"
   ]
  },
  {
   "cell_type": "code",
   "execution_count": null,
   "metadata": {},
   "outputs": [],
   "source": []
  }
 ],
 "metadata": {
  "kernelspec": {
   "display_name": "Python 3",
   "language": "python",
   "name": "python3"
  },
  "language_info": {
   "codemirror_mode": {
    "name": "ipython",
    "version": 3
   },
   "file_extension": ".py",
   "mimetype": "text/x-python",
   "name": "python",
   "nbconvert_exporter": "python",
   "pygments_lexer": "ipython3",
   "version": "3.5.6"
  }
 },
 "nbformat": 4,
 "nbformat_minor": 2
}
